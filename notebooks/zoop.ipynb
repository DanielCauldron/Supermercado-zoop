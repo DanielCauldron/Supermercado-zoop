{
 "cells": [
  {
   "cell_type": "code",
   "execution_count": 62,
   "id": "428a490d",
   "metadata": {},
   "outputs": [],
   "source": [
    "import pandas as pd #importa pandas para manipulação de dados\n",
    "import numpy as np #importa numpy para operações numéricas\n",
    "from pandas import json_normalize #importa json_normalize para normalizar dados JSON\n",
    "from matplotlib import pyplot as plt #importa pyplot do matplotlib para visualização de dados  "
   ]
  },
  {
   "cell_type": "markdown",
   "id": "d499a90f",
   "metadata": {},
   "source": [
    "Aula 1 - Acesso aos dados"
   ]
  },
  {
   "cell_type": "code",
   "execution_count": 63,
   "id": "cdc7ad2d",
   "metadata": {},
   "outputs": [],
   "source": [
    "url = 'https://github.com/alura-cursos/python-analise-chatgpt-assistente/raw/main/Dados/dados_vendas.json'# URL do arquivo JSON"
   ]
  },
  {
   "cell_type": "code",
   "execution_count": 64,
   "id": "97b796a9",
   "metadata": {},
   "outputs": [
    {
     "data": {
      "text/html": [
       "<div>\n",
       "<style scoped>\n",
       "    .dataframe tbody tr th:only-of-type {\n",
       "        vertical-align: middle;\n",
       "    }\n",
       "\n",
       "    .dataframe tbody tr th {\n",
       "        vertical-align: top;\n",
       "    }\n",
       "\n",
       "    .dataframe thead th {\n",
       "        text-align: right;\n",
       "    }\n",
       "</style>\n",
       "<table border=\"1\" class=\"dataframe\">\n",
       "  <thead>\n",
       "    <tr style=\"text-align: right;\">\n",
       "      <th></th>\n",
       "      <th>item_identificador</th>\n",
       "      <th>loja_identificador</th>\n",
       "      <th>vendas_totais</th>\n",
       "      <th>item</th>\n",
       "      <th>loja</th>\n",
       "    </tr>\n",
       "  </thead>\n",
       "  <tbody>\n",
       "    <tr>\n",
       "      <th>0</th>\n",
       "      <td>FDB08</td>\n",
       "      <td>OUT018</td>\n",
       "      <td>176503.58</td>\n",
       "      <td>{'item_peso': 6.055, 'item_conteudo_gordura': ...</td>\n",
       "      <td>{'loja_ano_estabelecimento': 2019, 'loja_taman...</td>\n",
       "    </tr>\n",
       "    <tr>\n",
       "      <th>1</th>\n",
       "      <td>DRQ35</td>\n",
       "      <td>OUT049</td>\n",
       "      <td>185758.20</td>\n",
       "      <td>{'item_peso': 9.3, 'item_conteudo_gordura': 'B...</td>\n",
       "      <td>{'loja_ano_estabelecimento': 2009, 'loja_taman...</td>\n",
       "    </tr>\n",
       "    <tr>\n",
       "      <th>2</th>\n",
       "      <td>FDD14</td>\n",
       "      <td>OUT018</td>\n",
       "      <td>165983.94</td>\n",
       "      <td>{'item_peso': 20.7, 'item_conteudo_gordura': '...</td>\n",
       "      <td>{'loja_ano_estabelecimento': 2019, 'loja_taman...</td>\n",
       "    </tr>\n",
       "    <tr>\n",
       "      <th>3</th>\n",
       "      <td>FDY37</td>\n",
       "      <td>OUT045</td>\n",
       "      <td>314923.40</td>\n",
       "      <td>{'item_peso': 17.0, 'item_conteudo_gordura': '...</td>\n",
       "      <td>{'loja_ano_estabelecimento': 2012, 'loja_taman...</td>\n",
       "    </tr>\n",
       "    <tr>\n",
       "      <th>4</th>\n",
       "      <td>FDY59</td>\n",
       "      <td>OUT018</td>\n",
       "      <td>64782.34</td>\n",
       "      <td>{'item_peso': 8.195, 'item_conteudo_gordura': ...</td>\n",
       "      <td>{'loja_ano_estabelecimento': 2019, 'loja_taman...</td>\n",
       "    </tr>\n",
       "  </tbody>\n",
       "</table>\n",
       "</div>"
      ],
      "text/plain": [
       "  item_identificador loja_identificador  vendas_totais  \\\n",
       "0              FDB08             OUT018      176503.58   \n",
       "1              DRQ35             OUT049      185758.20   \n",
       "2              FDD14             OUT018      165983.94   \n",
       "3              FDY37             OUT045      314923.40   \n",
       "4              FDY59             OUT018       64782.34   \n",
       "\n",
       "                                                item  \\\n",
       "0  {'item_peso': 6.055, 'item_conteudo_gordura': ...   \n",
       "1  {'item_peso': 9.3, 'item_conteudo_gordura': 'B...   \n",
       "2  {'item_peso': 20.7, 'item_conteudo_gordura': '...   \n",
       "3  {'item_peso': 17.0, 'item_conteudo_gordura': '...   \n",
       "4  {'item_peso': 8.195, 'item_conteudo_gordura': ...   \n",
       "\n",
       "                                                loja  \n",
       "0  {'loja_ano_estabelecimento': 2019, 'loja_taman...  \n",
       "1  {'loja_ano_estabelecimento': 2009, 'loja_taman...  \n",
       "2  {'loja_ano_estabelecimento': 2019, 'loja_taman...  \n",
       "3  {'loja_ano_estabelecimento': 2012, 'loja_taman...  \n",
       "4  {'loja_ano_estabelecimento': 2019, 'loja_taman...  "
      ]
     },
     "execution_count": 64,
     "metadata": {},
     "output_type": "execute_result"
    }
   ],
   "source": [
    "df = pd.read_json(url)# Lê o arquivo JSON e cria um DataFrame\n",
    "df.head()# Exibe as primeiras linhas do DataFrame"
   ]
  },
  {
   "cell_type": "code",
   "execution_count": 65,
   "id": "d0dd9192",
   "metadata": {},
   "outputs": [
    {
     "data": {
      "text/html": [
       "<div>\n",
       "<style scoped>\n",
       "    .dataframe tbody tr th:only-of-type {\n",
       "        vertical-align: middle;\n",
       "    }\n",
       "\n",
       "    .dataframe tbody tr th {\n",
       "        vertical-align: top;\n",
       "    }\n",
       "\n",
       "    .dataframe thead th {\n",
       "        text-align: right;\n",
       "    }\n",
       "</style>\n",
       "<table border=\"1\" class=\"dataframe\">\n",
       "  <thead>\n",
       "    <tr style=\"text-align: right;\">\n",
       "      <th></th>\n",
       "      <th>item_identificador</th>\n",
       "      <th>loja_identificador</th>\n",
       "      <th>vendas_totais</th>\n",
       "      <th>item_peso</th>\n",
       "      <th>item_conteudo_gordura</th>\n",
       "      <th>item_visibilidade</th>\n",
       "      <th>item_tipo</th>\n",
       "      <th>item_preco</th>\n",
       "      <th>item_quantidade_venda</th>\n",
       "      <th>loja_ano_estabelecimento</th>\n",
       "      <th>loja_tamanho</th>\n",
       "      <th>loja_tipo_localizacao</th>\n",
       "      <th>loja_tipo</th>\n",
       "    </tr>\n",
       "  </thead>\n",
       "  <tbody>\n",
       "    <tr>\n",
       "      <th>0</th>\n",
       "      <td>FDB08</td>\n",
       "      <td>OUT018</td>\n",
       "      <td>176503.58</td>\n",
       "      <td>6.055</td>\n",
       "      <td>Baixo Teor de Gordura</td>\n",
       "      <td>0.031230</td>\n",
       "      <td>Frutas e Vegetais</td>\n",
       "      <td>160.36</td>\n",
       "      <td>None</td>\n",
       "      <td>2019</td>\n",
       "      <td>Médio</td>\n",
       "      <td>Nível 3</td>\n",
       "      <td>Supermercado Tipo 2</td>\n",
       "    </tr>\n",
       "    <tr>\n",
       "      <th>1</th>\n",
       "      <td>DRQ35</td>\n",
       "      <td>OUT049</td>\n",
       "      <td>185758.20</td>\n",
       "      <td>9.300</td>\n",
       "      <td>Baixo Teor de Gordura</td>\n",
       "      <td>0.042357</td>\n",
       "      <td>Bebidas Alcoólicas</td>\n",
       "      <td>123.24</td>\n",
       "      <td>None</td>\n",
       "      <td>2009</td>\n",
       "      <td>Médio</td>\n",
       "      <td>Nível 1</td>\n",
       "      <td>Supermercado Tipo 1</td>\n",
       "    </tr>\n",
       "    <tr>\n",
       "      <th>2</th>\n",
       "      <td>FDD14</td>\n",
       "      <td>OUT018</td>\n",
       "      <td>165983.94</td>\n",
       "      <td>20.700</td>\n",
       "      <td>Baixo Teor de Gordura</td>\n",
       "      <td>0.170500</td>\n",
       "      <td>Enlatados</td>\n",
       "      <td>184.13</td>\n",
       "      <td>None</td>\n",
       "      <td>2019</td>\n",
       "      <td>Médio</td>\n",
       "      <td>Nível 3</td>\n",
       "      <td>Supermercado Tipo 2</td>\n",
       "    </tr>\n",
       "    <tr>\n",
       "      <th>3</th>\n",
       "      <td>FDY37</td>\n",
       "      <td>OUT045</td>\n",
       "      <td>314923.40</td>\n",
       "      <td>17.000</td>\n",
       "      <td>Regular</td>\n",
       "      <td>0.026623</td>\n",
       "      <td>Enlatados</td>\n",
       "      <td>144.25</td>\n",
       "      <td>None</td>\n",
       "      <td>2012</td>\n",
       "      <td>None</td>\n",
       "      <td>Nível 2</td>\n",
       "      <td>Supermercado Tipo 1</td>\n",
       "    </tr>\n",
       "    <tr>\n",
       "      <th>4</th>\n",
       "      <td>FDY59</td>\n",
       "      <td>OUT018</td>\n",
       "      <td>64782.34</td>\n",
       "      <td>8.195</td>\n",
       "      <td>Baixo Teor de Gordura</td>\n",
       "      <td>0.000000</td>\n",
       "      <td>Confeitaria</td>\n",
       "      <td>93.15</td>\n",
       "      <td>None</td>\n",
       "      <td>2019</td>\n",
       "      <td>Médio</td>\n",
       "      <td>Nível 3</td>\n",
       "      <td>Supermercado Tipo 2</td>\n",
       "    </tr>\n",
       "  </tbody>\n",
       "</table>\n",
       "</div>"
      ],
      "text/plain": [
       "  item_identificador loja_identificador  vendas_totais  item_peso  \\\n",
       "0              FDB08             OUT018      176503.58      6.055   \n",
       "1              DRQ35             OUT049      185758.20      9.300   \n",
       "2              FDD14             OUT018      165983.94     20.700   \n",
       "3              FDY37             OUT045      314923.40     17.000   \n",
       "4              FDY59             OUT018       64782.34      8.195   \n",
       "\n",
       "   item_conteudo_gordura  item_visibilidade           item_tipo  item_preco  \\\n",
       "0  Baixo Teor de Gordura           0.031230   Frutas e Vegetais      160.36   \n",
       "1  Baixo Teor de Gordura           0.042357  Bebidas Alcoólicas      123.24   \n",
       "2  Baixo Teor de Gordura           0.170500           Enlatados      184.13   \n",
       "3                Regular           0.026623           Enlatados      144.25   \n",
       "4  Baixo Teor de Gordura           0.000000         Confeitaria       93.15   \n",
       "\n",
       "  item_quantidade_venda  loja_ano_estabelecimento loja_tamanho  \\\n",
       "0                  None                      2019        Médio   \n",
       "1                  None                      2009        Médio   \n",
       "2                  None                      2019        Médio   \n",
       "3                  None                      2012         None   \n",
       "4                  None                      2019        Médio   \n",
       "\n",
       "  loja_tipo_localizacao            loja_tipo  \n",
       "0               Nível 3  Supermercado Tipo 2  \n",
       "1               Nível 1  Supermercado Tipo 1  \n",
       "2               Nível 3  Supermercado Tipo 2  \n",
       "3               Nível 2  Supermercado Tipo 1  \n",
       "4               Nível 3  Supermercado Tipo 2  "
      ]
     },
     "execution_count": 65,
     "metadata": {},
     "output_type": "execute_result"
    }
   ],
   "source": [
    "df_item_normalized = json_normalize(df['item'])# Normaliza a coluna 'itens' do DataFrame\n",
    "df_loja_normalized = json_normalize(df['loja'])# Normaliza a coluna 'loja' do DataFrame\n",
    "df = pd.concat([df, df_item_normalized, df_loja_normalized], axis=1)# Concatena os DataFrames normalizados ao DataFrame original\n",
    "df.drop(columns=['item', 'loja'], axis=1, inplace=True)# Remove as colunas originais 'itens' e 'loja'\n",
    "df.head()# Exibe as primeiras linhas do DataFrame atualizado"
   ]
  },
  {
   "cell_type": "markdown",
   "id": "8acde7de",
   "metadata": {},
   "source": [
    "Aula 2 - Exploração dos dados"
   ]
  },
  {
   "cell_type": "code",
   "execution_count": 66,
   "id": "ae085e77",
   "metadata": {},
   "outputs": [
    {
     "data": {
      "text/html": [
       "<div>\n",
       "<style scoped>\n",
       "    .dataframe tbody tr th:only-of-type {\n",
       "        vertical-align: middle;\n",
       "    }\n",
       "\n",
       "    .dataframe tbody tr th {\n",
       "        vertical-align: top;\n",
       "    }\n",
       "\n",
       "    .dataframe thead th {\n",
       "        text-align: right;\n",
       "    }\n",
       "</style>\n",
       "<table border=\"1\" class=\"dataframe\">\n",
       "  <thead>\n",
       "    <tr style=\"text-align: right;\">\n",
       "      <th></th>\n",
       "      <th>item_identificador</th>\n",
       "      <th>loja_identificador</th>\n",
       "      <th>vendas_totais</th>\n",
       "      <th>item_peso</th>\n",
       "      <th>item_conteudo_gordura</th>\n",
       "      <th>item_visibilidade</th>\n",
       "      <th>item_tipo</th>\n",
       "      <th>item_preco</th>\n",
       "      <th>item_quantidade_venda</th>\n",
       "      <th>loja_ano_estabelecimento</th>\n",
       "      <th>loja_tamanho</th>\n",
       "      <th>loja_tipo_localizacao</th>\n",
       "      <th>loja_tipo</th>\n",
       "    </tr>\n",
       "  </thead>\n",
       "  <tbody>\n",
       "    <tr>\n",
       "      <th>0</th>\n",
       "      <td>FDB08</td>\n",
       "      <td>OUT018</td>\n",
       "      <td>176503.58</td>\n",
       "      <td>6.055</td>\n",
       "      <td>Baixo Teor de Gordura</td>\n",
       "      <td>0.031230</td>\n",
       "      <td>Frutas e Vegetais</td>\n",
       "      <td>160.36</td>\n",
       "      <td>None</td>\n",
       "      <td>2019</td>\n",
       "      <td>Médio</td>\n",
       "      <td>Nível 3</td>\n",
       "      <td>Supermercado Tipo 2</td>\n",
       "    </tr>\n",
       "    <tr>\n",
       "      <th>1</th>\n",
       "      <td>DRQ35</td>\n",
       "      <td>OUT049</td>\n",
       "      <td>185758.20</td>\n",
       "      <td>9.300</td>\n",
       "      <td>Baixo Teor de Gordura</td>\n",
       "      <td>0.042357</td>\n",
       "      <td>Bebidas Alcoólicas</td>\n",
       "      <td>123.24</td>\n",
       "      <td>None</td>\n",
       "      <td>2009</td>\n",
       "      <td>Médio</td>\n",
       "      <td>Nível 1</td>\n",
       "      <td>Supermercado Tipo 1</td>\n",
       "    </tr>\n",
       "    <tr>\n",
       "      <th>2</th>\n",
       "      <td>FDD14</td>\n",
       "      <td>OUT018</td>\n",
       "      <td>165983.94</td>\n",
       "      <td>20.700</td>\n",
       "      <td>Baixo Teor de Gordura</td>\n",
       "      <td>0.170500</td>\n",
       "      <td>Enlatados</td>\n",
       "      <td>184.13</td>\n",
       "      <td>None</td>\n",
       "      <td>2019</td>\n",
       "      <td>Médio</td>\n",
       "      <td>Nível 3</td>\n",
       "      <td>Supermercado Tipo 2</td>\n",
       "    </tr>\n",
       "    <tr>\n",
       "      <th>3</th>\n",
       "      <td>FDY37</td>\n",
       "      <td>OUT045</td>\n",
       "      <td>314923.40</td>\n",
       "      <td>17.000</td>\n",
       "      <td>Regular</td>\n",
       "      <td>0.026623</td>\n",
       "      <td>Enlatados</td>\n",
       "      <td>144.25</td>\n",
       "      <td>None</td>\n",
       "      <td>2012</td>\n",
       "      <td>None</td>\n",
       "      <td>Nível 2</td>\n",
       "      <td>Supermercado Tipo 1</td>\n",
       "    </tr>\n",
       "    <tr>\n",
       "      <th>4</th>\n",
       "      <td>FDY59</td>\n",
       "      <td>OUT018</td>\n",
       "      <td>64782.34</td>\n",
       "      <td>8.195</td>\n",
       "      <td>Baixo Teor de Gordura</td>\n",
       "      <td>0.000000</td>\n",
       "      <td>Confeitaria</td>\n",
       "      <td>93.15</td>\n",
       "      <td>None</td>\n",
       "      <td>2019</td>\n",
       "      <td>Médio</td>\n",
       "      <td>Nível 3</td>\n",
       "      <td>Supermercado Tipo 2</td>\n",
       "    </tr>\n",
       "  </tbody>\n",
       "</table>\n",
       "</div>"
      ],
      "text/plain": [
       "  item_identificador loja_identificador  vendas_totais  item_peso  \\\n",
       "0              FDB08             OUT018      176503.58      6.055   \n",
       "1              DRQ35             OUT049      185758.20      9.300   \n",
       "2              FDD14             OUT018      165983.94     20.700   \n",
       "3              FDY37             OUT045      314923.40     17.000   \n",
       "4              FDY59             OUT018       64782.34      8.195   \n",
       "\n",
       "   item_conteudo_gordura  item_visibilidade           item_tipo  item_preco  \\\n",
       "0  Baixo Teor de Gordura           0.031230   Frutas e Vegetais      160.36   \n",
       "1  Baixo Teor de Gordura           0.042357  Bebidas Alcoólicas      123.24   \n",
       "2  Baixo Teor de Gordura           0.170500           Enlatados      184.13   \n",
       "3                Regular           0.026623           Enlatados      144.25   \n",
       "4  Baixo Teor de Gordura           0.000000         Confeitaria       93.15   \n",
       "\n",
       "  item_quantidade_venda  loja_ano_estabelecimento loja_tamanho  \\\n",
       "0                  None                      2019        Médio   \n",
       "1                  None                      2009        Médio   \n",
       "2                  None                      2019        Médio   \n",
       "3                  None                      2012         None   \n",
       "4                  None                      2019        Médio   \n",
       "\n",
       "  loja_tipo_localizacao            loja_tipo  \n",
       "0               Nível 3  Supermercado Tipo 2  \n",
       "1               Nível 1  Supermercado Tipo 1  \n",
       "2               Nível 3  Supermercado Tipo 2  \n",
       "3               Nível 2  Supermercado Tipo 1  \n",
       "4               Nível 3  Supermercado Tipo 2  "
      ]
     },
     "execution_count": 66,
     "metadata": {},
     "output_type": "execute_result"
    }
   ],
   "source": [
    "df.head()# Exibe as primeiras linhas do DataFrame atualizado"
   ]
  },
  {
   "cell_type": "code",
   "execution_count": 67,
   "id": "15d744f8",
   "metadata": {},
   "outputs": [
    {
     "name": "stdout",
     "output_type": "stream",
     "text": [
      "Número de colunas: 13, Número de linhas: 8550\n",
      "Número de linhas duplicadas: 27\n"
     ]
    }
   ],
   "source": [
    "colunas_info = (len(df.columns), df.shape[0])# Obtém o número de colunas e linhas do DataFrame\n",
    "colunas_duplicadas =df.duplicated().sum()\n",
    "print(f'Número de colunas: {colunas_info[0]}, Número de linhas: {colunas_info[1]}')# Exibe o número de colunas e linhas do DataFrame\n",
    "print(f'Número de linhas duplicadas: {colunas_duplicadas}')# Exibe o número de linhas duplicadas no DataFrame"
   ]
  },
  {
   "cell_type": "code",
   "execution_count": 68,
   "id": "94ae92f9",
   "metadata": {},
   "outputs": [
    {
     "name": "stdout",
     "output_type": "stream",
     "text": [
      "Número de valores nulos por coluna:\n",
      "item_identificador             0\n",
      "loja_identificador             0\n",
      "vendas_totais                  0\n",
      "item_peso                   1469\n",
      "item_conteudo_gordura          0\n",
      "item_visibilidade              0\n",
      "item_tipo                      0\n",
      "item_preco                     0\n",
      "item_quantidade_venda       8550\n",
      "loja_ano_estabelecimento       0\n",
      "loja_tamanho                2417\n",
      "loja_tipo_localizacao          0\n",
      "loja_tipo                      0\n",
      "dtype: int64\n"
     ]
    }
   ],
   "source": [
    "nulos_por_coluna = df.isnull().sum()# Obtém o número de valores nulos por coluna no DataFrame\n",
    "print(f'Número de valores nulos por coluna:\\n{nulos_por_coluna}')# Exibe o número de valores nulos por coluna\n"
   ]
  },
  {
   "cell_type": "code",
   "execution_count": 69,
   "id": "38cbc1a8",
   "metadata": {},
   "outputs": [
    {
     "name": "stdout",
     "output_type": "stream",
     "text": [
      "<class 'pandas.core.frame.DataFrame'>\n",
      "RangeIndex: 8550 entries, 0 to 8549\n",
      "Data columns (total 13 columns):\n",
      " #   Column                    Non-Null Count  Dtype  \n",
      "---  ------                    --------------  -----  \n",
      " 0   item_identificador        8550 non-null   object \n",
      " 1   loja_identificador        8550 non-null   object \n",
      " 2   vendas_totais             8550 non-null   float64\n",
      " 3   item_peso                 7081 non-null   float64\n",
      " 4   item_conteudo_gordura     8550 non-null   object \n",
      " 5   item_visibilidade         8550 non-null   float64\n",
      " 6   item_tipo                 8550 non-null   object \n",
      " 7   item_preco                8550 non-null   float64\n",
      " 8   item_quantidade_venda     0 non-null      object \n",
      " 9   loja_ano_estabelecimento  8550 non-null   int64  \n",
      " 10  loja_tamanho              6133 non-null   object \n",
      " 11  loja_tipo_localizacao     8550 non-null   object \n",
      " 12  loja_tipo                 8550 non-null   object \n",
      "dtypes: float64(4), int64(1), object(8)\n",
      "memory usage: 868.5+ KB\n"
     ]
    }
   ],
   "source": [
    "df.info()# Exibe informações sobre o DataFrame, como tipos de dados e contagem de valores não nulos"
   ]
  },
  {
   "cell_type": "code",
   "execution_count": 70,
   "id": "6e1cfb44",
   "metadata": {},
   "outputs": [
    {
     "data": {
      "text/html": [
       "<div>\n",
       "<style scoped>\n",
       "    .dataframe tbody tr th:only-of-type {\n",
       "        vertical-align: middle;\n",
       "    }\n",
       "\n",
       "    .dataframe tbody tr th {\n",
       "        vertical-align: top;\n",
       "    }\n",
       "\n",
       "    .dataframe thead th {\n",
       "        text-align: right;\n",
       "    }\n",
       "</style>\n",
       "<table border=\"1\" class=\"dataframe\">\n",
       "  <thead>\n",
       "    <tr style=\"text-align: right;\">\n",
       "      <th></th>\n",
       "      <th>vendas_totais</th>\n",
       "      <th>item_peso</th>\n",
       "      <th>item_visibilidade</th>\n",
       "      <th>item_preco</th>\n",
       "      <th>loja_ano_estabelecimento</th>\n",
       "    </tr>\n",
       "  </thead>\n",
       "  <tbody>\n",
       "    <tr>\n",
       "      <th>count</th>\n",
       "      <td>8.550000e+03</td>\n",
       "      <td>7081.000000</td>\n",
       "      <td>8550.000000</td>\n",
       "      <td>8550.000000</td>\n",
       "      <td>8550.000000</td>\n",
       "    </tr>\n",
       "    <tr>\n",
       "      <th>mean</th>\n",
       "      <td>2.181949e+05</td>\n",
       "      <td>12.855023</td>\n",
       "      <td>0.066150</td>\n",
       "      <td>141.007453</td>\n",
       "      <td>2007.830409</td>\n",
       "    </tr>\n",
       "    <tr>\n",
       "      <th>std</th>\n",
       "      <td>1.708098e+05</td>\n",
       "      <td>4.643508</td>\n",
       "      <td>0.051578</td>\n",
       "      <td>62.333062</td>\n",
       "      <td>8.372541</td>\n",
       "    </tr>\n",
       "    <tr>\n",
       "      <th>min</th>\n",
       "      <td>3.329000e+03</td>\n",
       "      <td>4.555000</td>\n",
       "      <td>0.000000</td>\n",
       "      <td>31.290000</td>\n",
       "      <td>1995.000000</td>\n",
       "    </tr>\n",
       "    <tr>\n",
       "      <th>25%</th>\n",
       "      <td>8.349132e+04</td>\n",
       "      <td>8.770000</td>\n",
       "      <td>0.027024</td>\n",
       "      <td>93.787500</td>\n",
       "      <td>1997.000000</td>\n",
       "    </tr>\n",
       "    <tr>\n",
       "      <th>50%</th>\n",
       "      <td>1.794331e+05</td>\n",
       "      <td>12.600000</td>\n",
       "      <td>0.053978</td>\n",
       "      <td>142.935000</td>\n",
       "      <td>2009.000000</td>\n",
       "    </tr>\n",
       "    <tr>\n",
       "      <th>75%</th>\n",
       "      <td>3.100963e+05</td>\n",
       "      <td>16.850000</td>\n",
       "      <td>0.094646</td>\n",
       "      <td>185.760000</td>\n",
       "      <td>2014.000000</td>\n",
       "    </tr>\n",
       "    <tr>\n",
       "      <th>max</th>\n",
       "      <td>1.308696e+06</td>\n",
       "      <td>21.350000</td>\n",
       "      <td>0.328391</td>\n",
       "      <td>266.890000</td>\n",
       "      <td>2019.000000</td>\n",
       "    </tr>\n",
       "  </tbody>\n",
       "</table>\n",
       "</div>"
      ],
      "text/plain": [
       "       vendas_totais    item_peso  item_visibilidade   item_preco  \\\n",
       "count   8.550000e+03  7081.000000        8550.000000  8550.000000   \n",
       "mean    2.181949e+05    12.855023           0.066150   141.007453   \n",
       "std     1.708098e+05     4.643508           0.051578    62.333062   \n",
       "min     3.329000e+03     4.555000           0.000000    31.290000   \n",
       "25%     8.349132e+04     8.770000           0.027024    93.787500   \n",
       "50%     1.794331e+05    12.600000           0.053978   142.935000   \n",
       "75%     3.100963e+05    16.850000           0.094646   185.760000   \n",
       "max     1.308696e+06    21.350000           0.328391   266.890000   \n",
       "\n",
       "       loja_ano_estabelecimento  \n",
       "count               8550.000000  \n",
       "mean                2007.830409  \n",
       "std                    8.372541  \n",
       "min                 1995.000000  \n",
       "25%                 1997.000000  \n",
       "50%                 2009.000000  \n",
       "75%                 2014.000000  \n",
       "max                 2019.000000  "
      ]
     },
     "execution_count": 70,
     "metadata": {},
     "output_type": "execute_result"
    }
   ],
   "source": [
    "df.describe()# Exibe estatísticas descritivas do DataFrame"
   ]
  },
  {
   "cell_type": "code",
   "execution_count": 71,
   "id": "38adbca4",
   "metadata": {},
   "outputs": [
    {
     "data": {
      "text/plain": [
       "item_identificador          1559\n",
       "loja_identificador            10\n",
       "vendas_totais               3493\n",
       "item_peso                    415\n",
       "item_conteudo_gordura          5\n",
       "item_visibilidade           7880\n",
       "item_tipo                     16\n",
       "item_preco                  4839\n",
       "item_quantidade_venda          0\n",
       "loja_ano_estabelecimento       9\n",
       "loja_tamanho                   3\n",
       "loja_tipo_localizacao          3\n",
       "loja_tipo                      4\n",
       "dtype: int64"
      ]
     },
     "execution_count": 71,
     "metadata": {},
     "output_type": "execute_result"
    }
   ],
   "source": [
    "df.nunique()# exibe o número de valores únicos em cada coluna do DataFrame"
   ]
  },
  {
   "cell_type": "code",
   "execution_count": 72,
   "id": "6eaefd5b",
   "metadata": {},
   "outputs": [
    {
     "data": {
      "text/plain": [
       "Index([], dtype='object')"
      ]
     },
     "execution_count": 72,
     "metadata": {},
     "output_type": "execute_result"
    }
   ],
   "source": [
    "df.columns.duplicated().sum()# Verifica se há colunas duplicadas no DataFrame\n",
    "df.columns[df.columns.duplicated()]# Exibe os nomes das colunas duplicadas"
   ]
  },
  {
   "cell_type": "code",
   "execution_count": 73,
   "id": "73726938",
   "metadata": {},
   "outputs": [
    {
     "data": {
      "text/plain": [
       "item_identificador             0\n",
       "loja_identificador             0\n",
       "vendas_totais                  0\n",
       "item_peso                   1469\n",
       "item_conteudo_gordura          0\n",
       "item_visibilidade              0\n",
       "item_tipo                      0\n",
       "item_preco                     0\n",
       "item_quantidade_venda       8550\n",
       "loja_ano_estabelecimento       0\n",
       "loja_tamanho                2417\n",
       "loja_tipo_localizacao          0\n",
       "loja_tipo                      0\n",
       "dtype: int64"
      ]
     },
     "execution_count": 73,
     "metadata": {},
     "output_type": "execute_result"
    }
   ],
   "source": [
    "df.isnull().sum()# Verifica se há valores nulos em cada coluna do"
   ]
  },
  {
   "cell_type": "code",
   "execution_count": 74,
   "id": "348883c6",
   "metadata": {},
   "outputs": [
    {
     "name": "stdout",
     "output_type": "stream",
     "text": [
      "Index(['item_identificador', 'loja_identificador', 'vendas_totais',\n",
      "       'item_peso', 'item_conteudo_gordura', 'item_visibilidade', 'item_tipo',\n",
      "       'item_preco', 'item_quantidade_venda', 'loja_ano_estabelecimento',\n",
      "       'loja_tamanho', 'loja_tipo_localizacao', 'loja_tipo'],\n",
      "      dtype='object')\n"
     ]
    }
   ],
   "source": [
    "print(df.columns)\n"
   ]
  },
  {
   "cell_type": "code",
   "execution_count": 75,
   "id": "3caef04f",
   "metadata": {},
   "outputs": [
    {
     "data": {
      "text/plain": [
       "array(['Baixo Teor de Gordura', 'Regular', 'BTG', 'reg',\n",
       "       'baixo teor de gordura'], dtype=object)"
      ]
     },
     "execution_count": 75,
     "metadata": {},
     "output_type": "execute_result"
    }
   ],
   "source": [
    "df['item_conteudo_gordura'].unique()# Exibe os valores únicos na coluna 'item_conteudo_gordura'"
   ]
  },
  {
   "cell_type": "code",
   "execution_count": 76,
   "id": "9e67df73",
   "metadata": {},
   "outputs": [
    {
     "data": {
      "text/plain": [
       "item_conteudo_gordura\n",
       "Baixo Teor de Gordura    5101\n",
       "Regular                  2902\n",
       "BTG                       318\n",
       "reg                       117\n",
       "baixo teor de gordura     112\n",
       "Name: count, dtype: int64"
      ]
     },
     "execution_count": 76,
     "metadata": {},
     "output_type": "execute_result"
    }
   ],
   "source": [
    "df['item_conteudo_gordura'].value_counts()# Conta a frequência de cada valor único na coluna 'item_conteudo_gordura'"
   ]
  },
  {
   "cell_type": "markdown",
   "id": "82ec9024",
   "metadata": {},
   "source": [
    "Aula 3 - Limpeza e tratamento"
   ]
  },
  {
   "cell_type": "code",
   "execution_count": 77,
   "id": "9550e6ed",
   "metadata": {},
   "outputs": [
    {
     "name": "stdout",
     "output_type": "stream",
     "text": [
      "Número de linhas duplicadas: 27\n"
     ]
    }
   ],
   "source": [
    "df.duplicated().sum()# Verifica se há linhas duplicadas no DataFrame\n",
    "print(f'Número de linhas duplicadas: {df.duplicated().sum()}')# Exibe o número de linhas duplicadas no DataFrame"
   ]
  },
  {
   "cell_type": "code",
   "execution_count": 78,
   "id": "c53cab9e",
   "metadata": {},
   "outputs": [
    {
     "name": "stdout",
     "output_type": "stream",
     "text": [
      "Número de linhas duplicadas após remoção: 0\n"
     ]
    }
   ],
   "source": [
    "df.drop_duplicates(inplace=True)# Remove linhas duplicadas do DataFrame\n",
    "df.duplicated().sum()# Verifica novamente se há linhas duplicadas após a remoção\n",
    "print(f'Número de linhas duplicadas após remoção: {df.duplicated().sum()}')# Exibe o número de linhas duplicadas após a remoção"
   ]
  },
  {
   "cell_type": "code",
   "execution_count": 79,
   "id": "a4de77ab",
   "metadata": {},
   "outputs": [
    {
     "name": "stdout",
     "output_type": "stream",
     "text": [
      "Número de colunas duplicadas: 0\n"
     ]
    }
   ],
   "source": [
    "df.columns.duplicated().sum()# Verifica se há colunas duplicadas no DataFrame\n",
    "df.columns[df.columns.duplicated()]# Exibe os nomes das colunas duplicadas\n",
    "print(f'Número de colunas duplicadas: {df.columns.duplicated().sum()}')# Exibe o número de colunas duplicadas no DataFrame"
   ]
  },
  {
   "cell_type": "code",
   "execution_count": 80,
   "id": "2d89a2aa",
   "metadata": {},
   "outputs": [
    {
     "name": "stdout",
     "output_type": "stream",
     "text": [
      "Número de colunas duplicadas após remoção: 0\n"
     ]
    }
   ],
   "source": [
    "df = df.loc[:, ~df.columns.duplicated()]# Remove colunas duplicadas, mantendo a primeira ocorrência\n",
    "df.columns.duplicated().sum()# Verifica novamente se há colunas duplicadas após a remoção\n",
    "print(f'Número de colunas duplicadas após remoção: {df.columns.duplicated().sum()}')# Exibe o número de colunas duplicadas após a remoção"
   ]
  },
  {
   "cell_type": "code",
   "execution_count": 81,
   "id": "0e28131c",
   "metadata": {},
   "outputs": [
    {
     "data": {
      "text/html": [
       "<div>\n",
       "<style scoped>\n",
       "    .dataframe tbody tr th:only-of-type {\n",
       "        vertical-align: middle;\n",
       "    }\n",
       "\n",
       "    .dataframe tbody tr th {\n",
       "        vertical-align: top;\n",
       "    }\n",
       "\n",
       "    .dataframe thead th {\n",
       "        text-align: right;\n",
       "    }\n",
       "</style>\n",
       "<table border=\"1\" class=\"dataframe\">\n",
       "  <thead>\n",
       "    <tr style=\"text-align: right;\">\n",
       "      <th></th>\n",
       "      <th>item_identificador</th>\n",
       "      <th>loja_identificador</th>\n",
       "      <th>vendas_totais</th>\n",
       "      <th>item_peso</th>\n",
       "      <th>item_conteudo_gordura</th>\n",
       "      <th>item_visibilidade</th>\n",
       "      <th>item_tipo</th>\n",
       "      <th>item_preco</th>\n",
       "      <th>item_quantidade_venda</th>\n",
       "      <th>loja_ano_estabelecimento</th>\n",
       "      <th>loja_tamanho</th>\n",
       "      <th>loja_tipo_localizacao</th>\n",
       "      <th>loja_tipo</th>\n",
       "    </tr>\n",
       "  </thead>\n",
       "  <tbody>\n",
       "    <tr>\n",
       "      <th>0</th>\n",
       "      <td>FDB08</td>\n",
       "      <td>OUT018</td>\n",
       "      <td>176503.58</td>\n",
       "      <td>6.055</td>\n",
       "      <td>Baixo Teor de Gordura</td>\n",
       "      <td>0.031230</td>\n",
       "      <td>Frutas e Vegetais</td>\n",
       "      <td>160.36</td>\n",
       "      <td>None</td>\n",
       "      <td>2019</td>\n",
       "      <td>Médio</td>\n",
       "      <td>Nível 3</td>\n",
       "      <td>Supermercado Tipo 2</td>\n",
       "    </tr>\n",
       "    <tr>\n",
       "      <th>1</th>\n",
       "      <td>DRQ35</td>\n",
       "      <td>OUT049</td>\n",
       "      <td>185758.20</td>\n",
       "      <td>9.300</td>\n",
       "      <td>Baixo Teor de Gordura</td>\n",
       "      <td>0.042357</td>\n",
       "      <td>Bebidas Alcoólicas</td>\n",
       "      <td>123.24</td>\n",
       "      <td>None</td>\n",
       "      <td>2009</td>\n",
       "      <td>Médio</td>\n",
       "      <td>Nível 1</td>\n",
       "      <td>Supermercado Tipo 1</td>\n",
       "    </tr>\n",
       "    <tr>\n",
       "      <th>2</th>\n",
       "      <td>FDD14</td>\n",
       "      <td>OUT018</td>\n",
       "      <td>165983.94</td>\n",
       "      <td>20.700</td>\n",
       "      <td>Baixo Teor de Gordura</td>\n",
       "      <td>0.170500</td>\n",
       "      <td>Enlatados</td>\n",
       "      <td>184.13</td>\n",
       "      <td>None</td>\n",
       "      <td>2019</td>\n",
       "      <td>Médio</td>\n",
       "      <td>Nível 3</td>\n",
       "      <td>Supermercado Tipo 2</td>\n",
       "    </tr>\n",
       "    <tr>\n",
       "      <th>3</th>\n",
       "      <td>FDY37</td>\n",
       "      <td>OUT045</td>\n",
       "      <td>314923.40</td>\n",
       "      <td>17.000</td>\n",
       "      <td>Regular</td>\n",
       "      <td>0.026623</td>\n",
       "      <td>Enlatados</td>\n",
       "      <td>144.25</td>\n",
       "      <td>None</td>\n",
       "      <td>2012</td>\n",
       "      <td>None</td>\n",
       "      <td>Nível 2</td>\n",
       "      <td>Supermercado Tipo 1</td>\n",
       "    </tr>\n",
       "    <tr>\n",
       "      <th>4</th>\n",
       "      <td>FDY59</td>\n",
       "      <td>OUT018</td>\n",
       "      <td>64782.34</td>\n",
       "      <td>8.195</td>\n",
       "      <td>Baixo Teor de Gordura</td>\n",
       "      <td>0.000000</td>\n",
       "      <td>Confeitaria</td>\n",
       "      <td>93.15</td>\n",
       "      <td>None</td>\n",
       "      <td>2019</td>\n",
       "      <td>Médio</td>\n",
       "      <td>Nível 3</td>\n",
       "      <td>Supermercado Tipo 2</td>\n",
       "    </tr>\n",
       "  </tbody>\n",
       "</table>\n",
       "</div>"
      ],
      "text/plain": [
       "  item_identificador loja_identificador  vendas_totais  item_peso  \\\n",
       "0              FDB08             OUT018      176503.58      6.055   \n",
       "1              DRQ35             OUT049      185758.20      9.300   \n",
       "2              FDD14             OUT018      165983.94     20.700   \n",
       "3              FDY37             OUT045      314923.40     17.000   \n",
       "4              FDY59             OUT018       64782.34      8.195   \n",
       "\n",
       "   item_conteudo_gordura  item_visibilidade           item_tipo  item_preco  \\\n",
       "0  Baixo Teor de Gordura           0.031230   Frutas e Vegetais      160.36   \n",
       "1  Baixo Teor de Gordura           0.042357  Bebidas Alcoólicas      123.24   \n",
       "2  Baixo Teor de Gordura           0.170500           Enlatados      184.13   \n",
       "3                Regular           0.026623           Enlatados      144.25   \n",
       "4  Baixo Teor de Gordura           0.000000         Confeitaria       93.15   \n",
       "\n",
       "  item_quantidade_venda  loja_ano_estabelecimento loja_tamanho  \\\n",
       "0                  None                      2019        Médio   \n",
       "1                  None                      2009        Médio   \n",
       "2                  None                      2019        Médio   \n",
       "3                  None                      2012         None   \n",
       "4                  None                      2019        Médio   \n",
       "\n",
       "  loja_tipo_localizacao            loja_tipo  \n",
       "0               Nível 3  Supermercado Tipo 2  \n",
       "1               Nível 1  Supermercado Tipo 1  \n",
       "2               Nível 3  Supermercado Tipo 2  \n",
       "3               Nível 2  Supermercado Tipo 1  \n",
       "4               Nível 3  Supermercado Tipo 2  "
      ]
     },
     "execution_count": 81,
     "metadata": {},
     "output_type": "execute_result"
    }
   ],
   "source": [
    "df.head()# Exibe as primeiras linhas do DataFrame atualizado após a remoção de colunas duplicadas"
   ]
  },
  {
   "cell_type": "code",
   "execution_count": 82,
   "id": "8a403db9",
   "metadata": {},
   "outputs": [
    {
     "name": "stdout",
     "output_type": "stream",
     "text": [
      "['item_identificador', 'loja_identificador', 'vendas_totais', 'item_peso', 'item_conteudo_gordura', 'item_visibilidade', 'item_tipo', 'item_preco', 'item_quantidade_venda', 'loja_ano_estabelecimento', 'loja_tamanho', 'loja_tipo_localizacao', 'loja_tipo']\n"
     ]
    }
   ],
   "source": [
    "print(df.columns.tolist())\n",
    "\n"
   ]
  },
  {
   "cell_type": "code",
   "execution_count": 83,
   "id": "5d5633d9",
   "metadata": {},
   "outputs": [
    {
     "data": {
      "image/png": "[encoded data removed]",
      "text/plain": [
       "<Figure size 1000x600 with 1 Axes>"
      ]
     },
     "metadata": {},
     "output_type": "display_data"
    }
   ],
   "source": [
    "\n",
    "# Crie um DataFrame com os dados agrupados por tamanho de loja\n",
    "df_agrupado = df.groupby('loja_tamanho')['vendas_totais'].sum().reset_index()\n",
    "\n",
    "# Cores\n",
    "cor_fundo = \"#ebebeb\"\n",
    "cor_barras = \"#e23155\"\n",
    "cor_texto = \"#19325c\"\n",
    "\n",
    "# Crie a figura e o eixo\n",
    "fig, ax = plt.subplots(figsize=(10, 6))\n",
    "fig.set_facecolor(cor_fundo)\n",
    "ax.set_facecolor(cor_fundo)\n",
    "\n",
    "# Plote as barras\n",
    "barras = ax.bar(df_agrupado['loja_tamanho'], df_agrupado['vendas_totais'], color=cor_barras)\n",
    "\n",
    "# Adicione o total de vendas acima de cada barra\n",
    "for bar in barras:\n",
    "    altura_barra = bar.get_height()\n",
    "    valor_vendas = altura_barra / 1000000  # Converter para milhões\n",
    "    ax.annotate(f'R$ {valor_vendas:.2f} M', xy=(bar.get_x() + bar.get_width() / 2, altura_barra),\n",
    "                xytext=(0, 3), textcoords='offset points', ha='center', color=cor_texto)\n",
    "\n",
    "# Configurações adicionais\n",
    "ax.set_ylabel('Total de Vendas (R$)')\n",
    "ax.set_title('Total de Vendas por Tamanho de Loja')\n",
    "plt.xticks(rotation=0)\n",
    "ax.spines['top'].set_visible(False)\n",
    "ax.spines['right'].set_visible(False)\n",
    "ax.spines['bottom'].set_color(cor_texto)\n",
    "ax.spines['left'].set_color(cor_texto)\n",
    "ax.tick_params(axis='x', colors=cor_texto)\n",
    "ax.tick_params(axis='y', colors=cor_texto)\n",
    "ax.yaxis.label.set_color(cor_texto)\n",
    "ax.xaxis.label.set_color(cor_texto)\n",
    "\n",
    "# Exibir o gráfico\n",
    "plt.tight_layout()\n",
    "plt.show()"
   ]
  },
  {
   "cell_type": "code",
   "execution_count": 84,
   "id": "6e821b28",
   "metadata": {},
   "outputs": [
    {
     "data": {
      "image/png": "[encoded data removed]",
      "text/plain": [
       "<Figure size 1000x600 with 1 Axes>"
      ]
     },
     "metadata": {},
     "output_type": "display_data"
    }
   ],
   "source": [
    "\n",
    "# Crie um DataFrame com os dados agrupados por tipo de loja\n",
    "df_agrupado = df.groupby('loja_tipo')['vendas_totais'].sum().reset_index()\n",
    "\n",
    "# Cores\n",
    "cor_fundo = \"#ebebeb\"\n",
    "cor_barras = \"#e23155\"\n",
    "cor_texto = \"#19325c\"\n",
    "\n",
    "# Crie a figura e o eixo\n",
    "fig, ax = plt.subplots(figsize=(10, 6))\n",
    "fig.set_facecolor(cor_fundo)\n",
    "ax.set_facecolor(cor_fundo)\n",
    "\n",
    "# Plote as barras\n",
    "barras = ax.bar(df_agrupado['loja_tipo'], df_agrupado['vendas_totais'], color=cor_barras)\n",
    "\n",
    "# Adicione o total de vendas acima de cada barra\n",
    "for bar in barras:\n",
    "    altura_barra = bar.get_height()\n",
    "    valor_vendas = altura_barra / 1000000  # Converter para milhões\n",
    "    ax.annotate(f'R$ {valor_vendas:.2f} M', xy=(bar.get_x() + bar.get_width() / 2, altura_barra),\n",
    "                xytext=(0, 3), textcoords='offset points', ha='center', color=cor_texto)\n",
    "\n",
    "# Configurações adicionais\n",
    "ax.set_ylabel('Total de Vendas (R$)')\n",
    "ax.set_title('Total de Vendas por Tipo de Loja')\n",
    "plt.xticks(rotation=0)\n",
    "ax.spines['top'].set_visible(False)\n",
    "ax.spines['right'].set_visible(False)\n",
    "ax.spines['bottom'].set_color(cor_texto)\n",
    "ax.spines['left'].set_color(cor_texto)\n",
    "ax.tick_params(axis='x', colors=cor_texto)\n",
    "ax.tick_params(axis='y', colors=cor_texto)\n",
    "ax.yaxis.label.set_color(cor_texto)\n",
    "ax.xaxis.label.set_color(cor_texto)\n",
    "\n",
    "# Exibir o gráfico\n",
    "plt.tight_layout()\n",
    "plt.show()"
   ]
  },
  {
   "cell_type": "code",
   "execution_count": 85,
   "id": "f8d05a16",
   "metadata": {},
   "outputs": [
    {
     "data": {
      "image/png": "[encoded data removed]",
      "text/plain": [
       "<Figure size 1000x600 with 1 Axes>"
      ]
     },
     "metadata": {},
     "output_type": "display_data"
    }
   ],
   "source": [
    "# Crie um DataFrame com os dados agrupados por categoria de produto\n",
    "df_agrupado = df.groupby('item_tipo')['vendas_totais'].sum().reset_index()\n",
    "\n",
    "# Cores\n",
    "cor_fundo = \"#ebebeb\"\n",
    "cor_barras = \"#e23155\"\n",
    "cor_texto = \"#19325c\"\n",
    "\n",
    "# Ordenar o DataFrame por vendas totais (funil)\n",
    "df_agrupado = df_agrupado.sort_values(by='vendas_totais', ascending=True)\n",
    "\n",
    "# Crie a figura e o eixo\n",
    "fig, ax = plt.subplots(figsize=(10, 6))\n",
    "fig.set_facecolor(cor_fundo)\n",
    "ax.set_facecolor(cor_fundo)\n",
    "\n",
    "# Plote as barras horizontais\n",
    "barras = ax.barh(df_agrupado['item_tipo'], df_agrupado['vendas_totais'], color=cor_barras)\n",
    "\n",
    "# Adicione o total de vendas dentro de cada barra\n",
    "for bar in barras:\n",
    "    largura_barra = bar.get_width()\n",
    "    valor_vendas = largura_barra / 1000000  # Converter para milhões\n",
    "    ax.annotate(f'R$ {valor_vendas:.2f} M', xy=(largura_barra, bar.get_y() + bar.get_height() / 2),\n",
    "                xytext=(5, 0), textcoords='offset points', va='center', color=cor_texto)\n",
    "\n",
    "# Configurações adicionais\n",
    "ax.set_xlabel('Total de Vendas (R$)')\n",
    "ax.set_title('Total de Vendas por Categoria de Produto')\n",
    "ax.spines['top'].set_visible(False)\n",
    "ax.spines['right'].set_visible(False)\n",
    "ax.spines['bottom'].set_color(cor_texto)\n",
    "ax.spines['left'].set_color(cor_texto)\n",
    "ax.tick_params(axis='x', colors=cor_texto)\n",
    "ax.tick_params(axis='y', colors=cor_texto)\n",
    "ax.xaxis.label.set_color(cor_texto)\n",
    "ax.yaxis.label.set_color(cor_texto)\n",
    "ax.grid(False)\n",
    "\n",
    "# Inverter a ordem das categorias de produtos para manter o aspecto de funil\n",
    "ax.invert_yaxis()\n",
    "\n",
    "# Exibir o gráfico\n",
    "plt.tight_layout()\n",
    "plt.show()"
   ]
  },
  {
   "cell_type": "code",
   "execution_count": 86,
   "id": "ee671b51",
   "metadata": {},
   "outputs": [
    {
     "data": {
      "image/png": "[encoded data removed]",
      "text/plain": [
       "<Figure size 800x600 with 1 Axes>"
      ]
     },
     "metadata": {},
     "output_type": "display_data"
    }
   ],
   "source": [
    "# Crie um DataFrame com os dados agrupados por categoria de quantidade de gordura\n",
    "df_agrupado = df.groupby('item_conteudo_gordura')['vendas_totais'].sum().reset_index()\n",
    "\n",
    "# Cores\n",
    "cor_fundo = \"#ebebeb\"\n",
    "cor_baixo_gordura = \"#e23155\"\n",
    "cor_regular = \"#acdcd3\"\n",
    "cor_texto = \"#19325c\"\n",
    "\n",
    "# Crie a figura e o eixo\n",
    "fig, ax = plt.subplots(figsize=(8, 6))\n",
    "fig.set_facecolor(cor_fundo)\n",
    "ax.set_facecolor(cor_fundo)\n",
    "\n",
    "# Plote as colunas\n",
    "barras = ax.bar(df_agrupado['item_conteudo_gordura'], df_agrupado['vendas_totais'],\n",
    "                color=[cor_baixo_gordura, cor_regular])\n",
    "\n",
    "# Adicione o total de vendas acima de cada coluna\n",
    "for bar in barras:\n",
    "    altura_barra = bar.get_height()\n",
    "    valor_vendas = altura_barra / 1000000  # Converter para milhões\n",
    "    ax.annotate(f'R$ {valor_vendas:.2f} M', xy=(bar.get_x() + bar.get_width() / 2, altura_barra),\n",
    "                xytext=(0, 3), textcoords='offset points', ha='center', color=cor_texto)\n",
    "\n",
    "# Configurações adicionais\n",
    "ax.set_ylabel('Total de Vendas (R$)')\n",
    "ax.set_title('Total de Vendas por Conteúdo de Gordura')\n",
    "ax.spines['top'].set_visible(False)\n",
    "ax.spines['right'].set_visible(False)\n",
    "ax.spines['bottom'].set_color(cor_texto)\n",
    "ax.spines['left'].set_color(cor_texto)\n",
    "ax.tick_params(axis='x', colors=cor_texto)\n",
    "ax.tick_params(axis='y', colors=cor_texto)\n",
    "ax.xaxis.label.set_color(cor_texto)\n",
    "ax.yaxis.label.set_color(cor_texto)\n",
    "ax.grid(False)\n",
    "\n",
    "# Exibir o gráfico\n",
    "plt.tight_layout()\n",
    "plt.show()\n"
   ]
  }
 ],
 "metadata": {
  "kernelspec": {
   "display_name": "env (3.12.3)",
   "language": "python",
   "name": "python3"
  },
  "language_info": {
   "codemirror_mode": {
    "name": "ipython",
    "version": 3
   },
   "file_extension": ".py",
   "mimetype": "text/x-python",
   "name": "python",
   "nbconvert_exporter": "python",
   "pygments_lexer": "ipython3",
   "version": "3.12.3"
  }
 },
 "nbformat": 4,
 "nbformat_minor": 5
}
